{
 "cells": [
  {
   "cell_type": "markdown",
   "metadata": {},
   "source": [
    "https://www.blog.pythonlibrary.org/2018/06/07/an-intro-to-pypdf2/"
   ]
  },
  {
   "cell_type": "markdown",
   "metadata": {},
   "source": [
    "import glob\n",
    "\n",
    "for name in glob.glob('2019CBC-11B-*.pdf'):\n",
    "    print(name)"
   ]
  },
  {
   "cell_type": "markdown",
   "metadata": {},
   "source": [
    "# Libraries"
   ]
  },
  {
   "cell_type": "code",
   "execution_count": 232,
   "metadata": {},
   "outputs": [],
   "source": [
    "from PyPDF2 import PdfFileReader\n",
    "import re\n",
    "import pandas as pd"
   ]
  },
  {
   "cell_type": "markdown",
   "metadata": {},
   "source": [
    "# Functions"
   ]
  },
  {
   "cell_type": "code",
   "execution_count": 233,
   "metadata": {},
   "outputs": [],
   "source": [
    "def PDF2TXT(filename):\n",
    "    with open(filename, \"rb\") as filehandle:\n",
    "        pdf = PdfFileReader(filehandle)\n",
    "        info = pdf.getDocumentInfo()\n",
    "        num_pages = pdf.getNumPages()\n",
    "        # print(info) # Document Information\n",
    "        # print(\"Number of pages: %i\" % pages) # Print total number of pages\n",
    "\n",
    "    ### Test for one page to be extracted\n",
    "        # page1 = pdf.getPage(0) # Work with page 0\n",
    "        # print(page1)\n",
    "        # pg_extracted = page1.extractText()\n",
    "        # print(pg_extracted)\n",
    "        # cleaned_pg = pg_extracted.replace(\"11B-\\n*\", \"\\n11B-*\").replace(\"Section \\n11B-\", \"Section 11B-\")\n",
    "        #concat = False\n",
    "\n",
    "    ### All pages are extracted\n",
    "        text_extracted=''\n",
    "        for num in range(num_pages):\n",
    "            pg = pdf.getPage(num)\n",
    "            txt_extracted = pg.extractText()\n",
    "            text_extracted += txt_extracted\n",
    "    return text_extracted"
   ]
  },
  {
   "cell_type": "code",
   "execution_count": 234,
   "metadata": {},
   "outputs": [],
   "source": [
    "def SplitText(text_extracted):\n",
    "    text = \"\"\n",
    "    # for line in pg_extracted.splitlines():\n",
    "    for line in text_extracted.splitlines():\n",
    "        text += line + \" \"\n",
    "\n",
    "    # paragraph break\n",
    "    newline = re.compile(r'(11B-)')\n",
    "\n",
    "    new_text = \"\"\n",
    "    begin = 0\n",
    "    _end = 0\n",
    "    for m in newline.finditer(text):\n",
    "        begin, end = m.span()\n",
    "        if text[begin-10:begin].endswith('Section '): \n",
    "            continue\n",
    "        new_text += text[_end:begin] + \"\\n\\n\"\n",
    "        _end = begin\n",
    "\n",
    "    new_text += text[_end:]\n",
    "\n",
    "    # remove hyphen\n",
    "    hyphene1 = re.compile(r'([A-Za-z]+)- ([a-z]+)')\n",
    "    new_text = hyphene1.sub(r'\\1\\2', new_text)\n",
    "    hyphene2 = re.compile(r'([A-Za-z]+)-([a-z]+)')\n",
    "    new_text = hyphene2.sub(r'\\1\\2', new_text)\n",
    "\n",
    "    # remove units\n",
    "    units = re.compile(r' \\((\\s+)?[0-9]+\\s+?mm(\\s+)?\\)')\n",
    "    new_text = units.sub('', new_text)\n",
    "\n",
    "    # remove header and footer\n",
    "    new_text = new_text.replace('ACCESSIBILITY TO PUBLIC BUILDINGS, PUBLIC ACCOMMODATIONS, COMMERCIAL BUILDINGS AND PUBLIC HOUSING', '')\n",
    "    new_text = new_text.replace('ACCESSIBILITY TO PUBLIC BUILDINGS, PUBLIC ACCOMMO DATIONS, COMMERCIAL BUILDINGS AND PUBLIC HOUSING', '')\n",
    "    footer1 = re.compile(r'2016 CALIFORNIA BUILDING CODE \\d+')\n",
    "    new_text = footer1.sub('', new_text)\n",
    "    footer2 = re.compile(r'\\d+2016 CALIFORNIA BUILDING CODE ')\n",
    "    new_text = footer2.sub('', new_text)\n",
    "\n",
    "    # remove white space\n",
    "    new_text = new_text.replace('11B- ', '11B-')\n",
    "    new_text = new_text.replace('  ', ' ')\n",
    "    new_text = new_text.replace(' .', '.')\n",
    "\n",
    "    # remove new line\n",
    "    new_text = new_text.replace(\"FIGURE \\n\\n11B-\", \"\\nFIGURE 11B-\")\n",
    "    new_text = new_text.replace(\". Exception:\", \". \\nException:\")\n",
    "    new_text = new_text.replace(\"or \\n\\n11B-\", \"or 11B-\")\n",
    "    new_text = new_text.replace(\", \\n\\n11B-\", \", 11B-\")\n",
    "    new_text = new_text.replace(\"and \\n\\n11B-\", \"and 11B-\")\n",
    "    new_text = new_text.replace(\"with Section \\n\\n11B-\", \"with Section 11B-\")\n",
    "    new_text = new_text.replace(\"with Sections \\n\\n11B-\", \"with Sections 11B-\")\n",
    "\n",
    "    # prep str by splitting by delimiter\n",
    "    new_text = new_text.replace('\\n\\n', ',,,')\n",
    "\n",
    "    split_text = new_text.split(\",,,\")\n",
    "    return split_text\n"
   ]
  },
  {
   "cell_type": "code",
   "execution_count": 235,
   "metadata": {},
   "outputs": [],
   "source": [
    "# list to dictionary\n",
    "def Convert2dict(lst): \n",
    "    length = len(lst)\n",
    "    result = {i: lst[i] for i in range(length)}\n",
    "    return result\n",
    "\n",
    "#########\n",
    "# https://www.kite.com/python/answers/how-to-parse-a-csv-string-in-python\n",
    "# import csv\n",
    "# lines = new_text.splitlines()\n",
    "# reader = csv.reader(lines)\n",
    "# reader#parsed_csv = list(reader)\n",
    "#########\n"
   ]
  },
  {
   "cell_type": "code",
   "execution_count": 236,
   "metadata": {},
   "outputs": [],
   "source": [
    "def SaveDictToCsv (dict_text, csv_filename):\n",
    "    df = pd.DataFrame.from_dict(dict_text, orient='index')\n",
    "    # df.head()\n",
    "    df.to_csv(csv_filename, sep=',',index=False)\n"
   ]
  },
  {
   "cell_type": "markdown",
   "metadata": {},
   "source": [
    "# Action"
   ]
  },
  {
   "cell_type": "code",
   "execution_count": 238,
   "metadata": {},
   "outputs": [],
   "source": [
    "# filename = 'test.pdf'\n",
    "# filename = '2016CBC-161-165.pdf'\n",
    "\n",
    "for num in range(10):\n",
    "    filename = '2019CBC-11B-%s.pdf'%(num+1)\n",
    "    text_extracted = PDF2TXT(filename)\n",
    "    split_text = SplitText(text_extracted)\n",
    "    dict_text = Convert2dict(split_text)\n",
    "    csv_filename = '2019CBC-11B-Section%s.csv'%(num+1)\n",
    "    SaveDictToCsv(dict_text, csv_filename)"
   ]
  },
  {
   "cell_type": "code",
   "execution_count": null,
   "metadata": {},
   "outputs": [],
   "source": []
  },
  {
   "cell_type": "code",
   "execution_count": null,
   "metadata": {},
   "outputs": [],
   "source": []
  },
  {
   "cell_type": "code",
   "execution_count": null,
   "metadata": {},
   "outputs": [],
   "source": []
  },
  {
   "cell_type": "code",
   "execution_count": null,
   "metadata": {},
   "outputs": [],
   "source": []
  },
  {
   "cell_type": "code",
   "execution_count": null,
   "metadata": {},
   "outputs": [],
   "source": []
  },
  {
   "cell_type": "code",
   "execution_count": null,
   "metadata": {},
   "outputs": [],
   "source": []
  },
  {
   "cell_type": "code",
   "execution_count": null,
   "metadata": {},
   "outputs": [],
   "source": []
  }
 ],
 "metadata": {
  "kernelspec": {
   "display_name": "Python 3",
   "language": "python",
   "name": "python3"
  },
  "language_info": {
   "codemirror_mode": {
    "name": "ipython",
    "version": 3
   },
   "file_extension": ".py",
   "mimetype": "text/x-python",
   "name": "python",
   "nbconvert_exporter": "python",
   "pygments_lexer": "ipython3",
   "version": "3.7.2"
  }
 },
 "nbformat": 4,
 "nbformat_minor": 2
}
